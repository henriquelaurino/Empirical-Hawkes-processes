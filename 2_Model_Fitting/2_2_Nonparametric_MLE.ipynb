{
 "cells": [
  {
   "cell_type": "markdown",
   "id": "1abdfe6d-af6a-486d-810a-62165b478293",
   "metadata": {},
   "source": [
    "# Setup"
   ]
  },
  {
   "cell_type": "code",
   "execution_count": 73,
   "id": "f0d734fb-d0d6-490f-baff-c681af3f0ebb",
   "metadata": {},
   "outputs": [],
   "source": [
    "import numpy as np\n",
    "import pandas as pd\n",
    "import matplotlib.pyplot as plt\n",
    "import math\n",
    "import os\n",
    "import random\n",
    "import scipy\n",
    "from scipy.optimize import minimize\n",
    "from scipy.stats import kstest\n",
    "\n",
    "from tqdm.notebook import tqdm\n",
    "\n",
    "datapath =  '/'.join(os.getcwd().split(\"\\\\\")[:-1])+\"/0_Auxiliary_Tools/\""
   ]
  },
  {
   "cell_type": "markdown",
   "id": "75a8b550-3375-47cb-ac66-bcf199ee19ca",
   "metadata": {},
   "source": [
    "# Expectation-Maximization with the Histogram Method (Lewis & Mohler, 2011)\n",
    "\n",
    "Notebook 2.1 illustrates why we should be careful with simply assuming a constant baseline rate. However, in most cases we also find that base rates and endogenous kernels become confounded if we attempt to estimate both nonparametrically. A principled approach to this issue is to model parametrically whichever half for which we have most prior knowledge (or use). \n",
    "\n",
    "In this notebook, let's assume we know the endogenous kernel (exponential) and attempt to fit the base rate with the nonparametric method proposed by Lewis & Mohler (2011). Their EM-type histogram method is the simplest nonparametric estimator for general point processes that does not require us to specify further kernels or to leverage Bayesian methods. It does, however, require a stronger assumption of independence.\n",
    "\n",
    "Start by defining a kernel and a baseline that is piecewise constant. For simplicity, we can define it in terms of time horizon $T$ and a count of bins $C$. For each bin of length $T/C$, we'll expect constant intensity. Our core assumption is that baselines per bins are independent of each other."
   ]
  },
  {
   "cell_type": "code",
   "execution_count": 74,
   "id": "4f2f9f1c-3184-45c8-98ec-670b6a9d37ae",
   "metadata": {},
   "outputs": [
    {
     "name": "stdout",
     "output_type": "stream",
     "text": [
      "Actual parameters:  [0.077762955968873, 0.5079828359342705]\n"
     ]
    },
    {
     "data": {
      "image/png": "[encoded data removed]",
      "text/plain": [
       "<Figure size 1080x72 with 1 Axes>"
      ]
     },
     "metadata": {
      "needs_background": "light"
     },
     "output_type": "display_data"
    }
   ],
   "source": [
    "class exp_kernel:\n",
    "    def __init__(self,params):\n",
    "        self.α = params[0]\n",
    "        self.β = params[1]\n",
    "        \n",
    "    def density(self,t,history):\n",
    "        history_deltas = t.reshape(-1,1) - history\n",
    "        timing_mask = history_deltas>0\n",
    "        raw = self.α*np.exp(-self.β*(history_deltas*timing_mask))\n",
    "        return np.sum(raw*timing_mask,1)\n",
    "    \n",
    "    def cumulative(self,T,history):\n",
    "        return np.sum((self.α/self.β)*(1-np.exp(-self.β*(T-history))))\n",
    "    \n",
    "    def cumulative_intervals(self,grid,history):\n",
    "        intervals = np.zeros(grid.reshape(-1,1).shape[0])\n",
    "        intervals[0] = 0 \n",
    "        for t in range(1,intervals.shape[0]):\n",
    "            conditional_history = history[history<grid[t]]\n",
    "            intervals[t] = np.sum((self.α/self.β)*(\n",
    "                np.exp(-self.β*(grid[t-1]-conditional_history))-np.exp(-self.β*(grid[t]-conditional_history)))) \n",
    "        return intervals\n",
    "    \n",
    "class histogram_baseline:\n",
    "    def __init__(self,T,params):\n",
    "        self.mu = np.array(params)\n",
    "        self.length = T/len(params)\n",
    "        self.T = T\n",
    "        \n",
    "    def density(self,t):\n",
    "        indices = [math.floor(step) for step in t/self.length]\n",
    "        return  self.mu[indices].reshape(-1,1)\n",
    "    \n",
    "    def cumulative(self,T,t):\n",
    "        indices = [math.floor(step) for step in t/self.length]\n",
    "        cumulative = np.zeros(len(t))\n",
    "        cumulative[0] = self.mu[indices[0]]*t[0]\n",
    "        for i in range(1,len(cumulative)):\n",
    "            if indices[i]==indices[i-1]:\n",
    "                cumulative[i] = self.mu[indices[i]]*(t[i]-t[i-1])\n",
    "            else:\n",
    "                tau = indices[i]*self.length\n",
    "                cumulative[i] = (self.mu[indices[i]  ]*(t[i]-tau) +\n",
    "                                 self.mu[indices[i-1]]*(tau-t[i-1]))\n",
    "        return cumulative.reshape(-1,1)\n",
    "    \n",
    "T = 360\n",
    "dataframe = pd.read_csv(datapath + \"Unidi_Sample.csv\",index_col=0)\n",
    "sample_process = dataframe.sample(1)\n",
    "print(\"Actual parameters: \",sample_process[\"Params\"][0])\n",
    "timing_string = sample_process[\"Observations\"][0].split(\" \")[1:-1]\n",
    "timing_string =[time.strip().strip('') for time in timing_string]\n",
    "timeseries = np.array([float(k) for k in list(filter(None,timing_string))])\n",
    "timeseries = timeseries[timeseries<T]\n",
    "fig, ax = plt.subplots(nrows=1,figsize=(15, 1))\n",
    "ax.set_yticklabels([])\n",
    "ax.set_xlim(xmin=0,xmax=timeseries[-1])\n",
    "for xc in zip(timeseries):\n",
    "    ax.axvline(x=xc,c='black',linewidth=0.2)\n",
    "ax.set_title('Sample process')\n",
    "plt.show()"
   ]
  },
  {
   "cell_type": "markdown",
   "id": "fd1f4f67-5e62-45f6-94b1-0ef2208b0260",
   "metadata": {},
   "source": [
    "The EM loop itself is fairly simple.\n",
    "\n",
    "### E-step\n",
    "\n",
    "Given starting estimates of the baseline $\\mu(t_j)$ and endogenous feedback $g(t_j)$, we can attribute whether each event was caused by baseline or endogenous intensity using the Poisson thinning theorem (and our conditionally independent intensity): \n",
    "\n",
    "$p_\\mu = P(t_j$ is baseline$)   = \\mu(t_j)/(\\mu(t_j)+g(t_j))$\n",
    "\n",
    "$p_g = P(t_j$ is endogenous$) = g(t_j)/(\\mu(t_j)+g(t_j))$\n",
    "\n",
    "### M-step\n",
    "\n",
    "Conditional on $p_\\mu$ and $p_g$, we can estimate parameters that maximizet the attributed likelihood function\n",
    "\n",
    "$\n",
    "ll(Y) = \\sum_{j\\geq1} p_\\mu\\left[log(\\mu(t_j)) -\\int_{t_0}^{T}\\mu(\\tau)d\\tau\\right] + p_g\\left[log(g(t_j|H_j)) -\\int_{t_0}^{T}g(\\tau|H_\\tau)d\\tau\\right]\n",
    "$\n",
    "\n",
    "Then iterate until the parameters converge. \n",
    "\n",
    "Below is a sample implementation:"
   ]
  },
  {
   "cell_type": "code",
   "execution_count": 76,
   "id": "587c2121-eecf-4f99-bf4b-dda731f9fac0",
   "metadata": {},
   "outputs": [
    {
     "data": {
      "application/vnd.jupyter.widget-view+json": {
       "model_id": "5aaa4ef3b3ae4a789f84a6a7498e465d",
       "version_major": 2,
       "version_minor": 0
      },
      "text/plain": [
       "  0%|          | 0/100 [00:00<?, ?it/s]"
      ]
     },
     "metadata": {},
     "output_type": "display_data"
    },
    {
     "name": "stdout",
     "output_type": "stream",
     "text": [
      "Estimated kernel parameters:  [0.04169827 0.04272763]\n",
      "Actual parameters:            [0.077762955968873, 0.5079828359342705]\n"
     ]
    }
   ],
   "source": [
    "class EM_hist:\n",
    "    def  __init__(self,Y,bins):\n",
    "        self.bins = bins\n",
    "        self.params = list(np.ones(bins)*1e-2) + [1e-3,1e-2]\n",
    "        self.T = 360\n",
    "        self.Y = Y\n",
    "        self.kernel = exp_kernel(self.params[-2:])\n",
    "        self.baseline = histogram_baseline(self.T,self.params[:-2])\n",
    "\n",
    "    def fit(self,max_iter=100):\n",
    "        EM_hist.E(self)\n",
    "        for k in tqdm(range(max_iter)):\n",
    "            # E-step: reassign weights\n",
    "            EM_hist.E(self)\n",
    "            # M-step: perform MLE\n",
    "            EM_hist.M(self)\n",
    "        return self.params\n",
    "    \n",
    "    def E(self):\n",
    "        h_0 = self.baseline.density(self.Y).reshape(-1,1)\n",
    "        h_1 = self.kernel.density(self.Y,self.Y).reshape(-1,1)\n",
    "        self.p_base = (h_0/(h_0+h_1))\n",
    "        self.p_endog = (h_1/(h_0+h_1))  \n",
    "        return\n",
    "    \n",
    "    def M(self):\n",
    "        # given current weights, restimate params\n",
    "        starting_params = self.params\n",
    "        bnds=((1e-5,np.inf),)*self.bins + ((1e-5,np.inf),(1e-5,np.inf))\n",
    "        optimizer = minimize(EM_hist.ll, [starting_params],args=(self),method='L-BFGS-B',bounds=bnds)\n",
    "        self.params = optimizer.x\n",
    "        return \n",
    "    \n",
    "    def ll(params,self):\n",
    "        safety = 1e-9 \n",
    "        # update functions with new params\n",
    "        self.kernel = exp_kernel(params[-2:])\n",
    "        self.baseline = histogram_baseline(self.T,params[:-2])\n",
    "        \n",
    "        # likelihood of base events\n",
    "        h_0 = self.baseline.density(self.Y)\n",
    "        H_0 = self.baseline.cumulative(self.T,self.Y)\n",
    "        ll = np.sum(np.multiply(self.p_base.reshape(1,-1), np.log(safety + h_0)-H_0))\n",
    "        \n",
    "        # likelihood of endogenous events\n",
    "        h_1 = self.kernel.density(self.Y,self.Y)\n",
    "        H_1 = self.kernel.cumulative_intervals(self.Y,self.Y)\n",
    "        #H_1[0] = self.kernel.cumulative_intervals(0,self.Y[0],[])\n",
    "        #for i in range(len(self.Y)):\n",
    "        #    H_1[i] = self.kernel.cumulative_intervals(self.Y[i-1],self.Y[i],self.Y[:i])\n",
    "        ll += np.sum(np.multiply(self.p_endog, (np.log(safety + h_1)-H_1).reshape(-1,1)))\n",
    "        \n",
    "        return -ll\n",
    "\n",
    "EM_estimator = EM_hist(timeseries,20)\n",
    "params = EM_estimator.fit(100)\n",
    "print(\"Estimated kernel parameters: \", params[-2:])\n",
    "print(\"Actual parameters:           \", sample_process[\"Params\"][0])"
   ]
  },
  {
   "cell_type": "markdown",
   "id": "e25ad378-331c-4771-bf50-19b31c292492",
   "metadata": {},
   "source": [
    "The kernel parameters are much closer to correct, but still not correct. In our case, this is mostly caused by not having enough data per bin. If we plot the estimated baselines we'll see that in crucial periods with many datapoints we are close to correct, but low latency-peridods lead to near-zero estimates. \n",
    "\n",
    "There is a clear tradeoff at play: to get the correct shape of the baseline, we need more batches, but to get more robust estimates we need fewer batches. In either case, we do not have the correct baseline to recover the kernel parameters either. To escape this situation, we'll need to relax the assumption of bin independence and that will require considerably more sophisticated mathematics."
   ]
  },
  {
   "cell_type": "code",
   "execution_count": 79,
   "id": "a809e397-099b-44cf-a4dc-6db998631a96",
   "metadata": {},
   "outputs": [
    {
     "data": {
      "image/png": "[encoded data removed]",
      "text/plain": [
       "<Figure size 432x288 with 1 Axes>"
      ]
     },
     "metadata": {
      "needs_background": "light"
     },
     "output_type": "display_data"
    }
   ],
   "source": [
    "# EM_estimator.p_base\n",
    "plt.title(\"Estimated Baseline\")\n",
    "plt.bar(range(len(params[:-2])),params[:-2],color=\"black\")\n",
    "plt.show()"
   ]
  },
  {
   "cell_type": "markdown",
   "id": "e5d33558-ff2d-4321-b23d-5ddfcad4a4ee",
   "metadata": {},
   "source": [
    "Nonetheless, if we estimate the mean inferred intensity (weighting each half by attribution probability) and the mean cumulative intensity, we'll see that we are much closer to correct than before."
   ]
  },
  {
   "cell_type": "code",
   "execution_count": 80,
   "id": "e8ecb4b1-07ff-42fd-80c3-ae641914cbc2",
   "metadata": {},
   "outputs": [
    {
     "data": {
      "image/png": "[encoded data removed]",
      "text/plain": [
       "<Figure size 720x216 with 1 Axes>"
      ]
     },
     "metadata": {
      "needs_background": "light"
     },
     "output_type": "display_data"
    },
    {
     "data": {
      "image/png": "[encoded data removed]",
      "text/plain": [
       "<Figure size 432x288 with 1 Axes>"
      ]
     },
     "metadata": {
      "needs_background": "light"
     },
     "output_type": "display_data"
    }
   ],
   "source": [
    "timesteps = np.linspace(0, T-1, T)\n",
    "h0 = histogram_baseline(T,params[:-2]).density(timesteps).reshape(-1,)\n",
    "h1 = exp_kernel(params[-2:]).density(timesteps,timeseries)\n",
    "p0 = h0/(h0+h1) \n",
    "p1 = h1/(h0+h1)\n",
    "pred_intensity = h0*p0 + h1*p1\n",
    "\n",
    "fig, ax = plt.subplots(nrows=1,figsize=(10, 3))\n",
    "ax.set_xlim(xmin=0,xmax=T)\n",
    "ax.set_ylim(ymin=-0.15,ymax=1.2*(max(pred_intensity)))\n",
    "ax.scatter(timeseries,np.zeros(len(timeseries))-0.1, color = \"black\", alpha=0.3)\n",
    "ax.plot(timesteps,pred_intensity,color=\"black\",linestyle='--')\n",
    "ax.set_xlabel(\"t\")\n",
    "ax.set_yticks([-0.1,pred_intensity[0]])\n",
    "ax.set_yticklabels([\"Events\",\"Intensity\"])\n",
    "ax.set_title(\"Inferred Intensity Function\")\n",
    "plt.show()\n",
    "\n",
    "H0 = histogram_baseline(T,params[:-2]).cumulative(T,timesteps).reshape(-1,)\n",
    "H1 = exp_kernel(params[-2:]).cumulative_intervals(timesteps,timeseries)\n",
    "cum_pred = H0*p0 + H1*p1 \n",
    "\n",
    "event_counts = np.zeros(T)\n",
    "for t in range(T):\n",
    "    event_counts[t] += np.sum((t<timeseries)&(timeseries<(t+1)))\n",
    "plt.plot(np.cumsum(cum_pred - event_counts),color='black')\n",
    "plt.axhline(0,linestyle='--',color='grey')\n",
    "plt.title(\"Cumulative Residual Intensity\")\n",
    "plt.xlabel(\"Days\")\n",
    "plt.show()"
   ]
  },
  {
   "cell_type": "markdown",
   "id": "acc1943a-846f-472f-bf4a-4473357dbd10",
   "metadata": {},
   "source": [
    "# Bibliography\n",
    "\n",
    "Lewis, E., & Mohler, G. (2011). A Nonparametric EM algorithm for Multiscale Hawkes Processes. Journal of Nonparametric Statistics, 1(1), 1–20."
   ]
  }
 ],
 "metadata": {
  "kernelspec": {
   "display_name": "Python 3 (ipykernel)",
   "language": "python",
   "name": "python3"
  },
  "language_info": {
   "codemirror_mode": {
    "name": "ipython",
    "version": 3
   },
   "file_extension": ".py",
   "mimetype": "text/x-python",
   "name": "python",
   "nbconvert_exporter": "python",
   "pygments_lexer": "ipython3",
   "version": "3.9.12"
  }
 },
 "nbformat": 4,
 "nbformat_minor": 5
}
